{
 "cells": [
  {
   "attachments": {},
   "cell_type": "markdown",
   "metadata": {},
   "source": [
    "Reading CSV and TXT files \n",
    "    - pandas \n",
    "        - most typical use is based on the loading of info from files or sources of info \n",
    "            - for further exploration, transformation and analysis\n",
    "    - section goals:\n",
    "        - learn to read comma separated values like .csv and raw text files .txt into pandas DataFrames"
   ]
  },
  {
   "cell_type": "code",
   "execution_count": null,
   "metadata": {},
   "outputs": [],
   "source": [
    "import pandas as pd "
   ]
  },
  {
   "attachments": {},
   "cell_type": "markdown",
   "metadata": {},
   "source": [
    "Reading Data with Python - Files\n",
    "    - First thing is to open file -> open()\n",
    "        - open(): single required argument -> path to file\n",
    "              - has a single return, the file object\n",
    "              - "
   ]
  },
  {
   "cell_type": "code",
   "execution_count": null,
   "metadata": {},
   "outputs": [],
   "source": []
  }
 ],
 "metadata": {
  "language_info": {
   "name": "python"
  },
  "orig_nbformat": 4
 },
 "nbformat": 4,
 "nbformat_minor": 2
}
