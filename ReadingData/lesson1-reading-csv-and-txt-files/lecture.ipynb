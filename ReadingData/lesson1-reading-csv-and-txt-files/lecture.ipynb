{
 "cells": [
  {
   "attachments": {},
   "cell_type": "markdown",
   "metadata": {},
   "source": [
    "Reading CSV and TXT files \n",
    "    - pandas \n",
    "        - most typical use is based on the loading of info from files or sources of info \n",
    "            - for further exploration, transformation and analysis\n",
    "    - section goals:\n",
    "        - learn to read comma separated values like .csv and raw text files .txt into pandas DataFrames"
   ]
  },
  {
   "cell_type": "code",
   "execution_count": 2,
   "metadata": {},
   "outputs": [],
   "source": [
    "import pandas as pd "
   ]
  },
  {
   "attachments": {},
   "cell_type": "markdown",
   "metadata": {},
   "source": [
    "Reading Data with Python - Files\n",
    "    - First thing is to open file -> open()\n",
    "        - open(): single required argument -> path to file\n",
    "              - has a single return, the file object\n",
    "              - "
   ]
  },
  {
   "cell_type": "code",
   "execution_count": 7,
   "metadata": {},
   "outputs": [
    {
     "name": "stdout",
     "output_type": "stream",
     "text": [
      "<_io.TextIOWrapper name='btc-market-price.csv' mode='r' encoding='UTF-8'>\n"
     ]
    }
   ],
   "source": [
    "#  with statement: automatically takes care of closing the file once it leaves the with block, even in cases of error\n",
    "\n",
    "#  opening the file 'btc-market-price.csv' for reading using a with statement and the open() function\n",
    "\n",
    "filepath = 'btc-market-price.csv'\n",
    "\n",
    "with open(filepath, 'r') as reader:\n",
    "    print(reader)"
   ]
  },
  {
   "cell_type": "code",
   "execution_count": 9,
   "metadata": {},
   "outputs": [
    {
     "name": "stdout",
     "output_type": "stream",
     "text": [
      "0 2/4/17 0:00,1099.169125\n",
      "\n",
      "1 3/4/17 0:00,1141.813\n",
      "\n",
      "2 4/4/17 0:00,?\n",
      "\n",
      "3 5/4/17 0:00,1133.079314\n",
      "\n",
      "4 6/4/17 0:00,-\n",
      "\n",
      "5 7/4/17 0:00,-\n",
      "\n",
      "6 8/4/17 0:00,1181.149838\n",
      "\n",
      "7 9/4/17 0:00,1208.8005\n",
      "\n",
      "8 10/4/17 0:00,1207.744875\n",
      "\n",
      "9 11/4/17 0:00,1226.617038\n",
      "\n"
     ]
    }
   ],
   "source": [
    "# Once the file is opened,  read its contents\n",
    "# following code reads and prints the first 10 lines of the file 'btc-market-price.csv'.\n",
    "\n",
    "filepath = 'btc-market-price.csv' # specifies the file path to 'btc-market-price.csv'.\n",
    "\n",
    "# with statement opens the file 'btc-market-price.csv' in read mode ('r') and creates a file reader object named reader\n",
    "with open(filepath, 'r') as reader:\n",
    "    # loop iterates through the lines of the file using enumerate()\n",
    "    # reads all the lines in the file using readlines()\n",
    "    # provides both the line index (index) and the line content (line) in each iteration\n",
    "    for index, line in enumerate(reader.readlines()):\n",
    "        # read just the first 10 lines\n",
    "        if (index < 10):  # ensures that only the first 10 lines are printed\n",
    "            # prints the index (line number) and the content of each line to the console for the first 10 lines of the file\n",
    "            print(index, line)  "
   ]
  },
  {
   "attachments": {},
   "cell_type": "markdown",
   "metadata": {},
   "source": [
    "Reading Data with Pandas \n",
    "    - Most recurrent types of work for data analysis \n",
    "      - public data source\n",
    "      - logs\n",
    "      - historical information tables\n",
    "      - exports from databases \n",
    "    - Pandas lib offers functions to read and write files in multiple formats\n",
    "        - CSV\n",
    "        - JSON\n",
    "        - XML\n",
    "        - Excels XLSX\n",
    "      - creating DataFrame with info read from file\n",
    "    - Learn how to read different type of data including:\n",
    "          - CSV files (.csv)\n",
    "          - Raw text files (.txt)\n",
    "          - JSON data from a file and from an API\n",
    "          - Data from a SQL query over a database"
   ]
  },
  {
   "attachments": {},
   "cell_type": "markdown",
   "metadata": {},
   "source": [
    "The read_csv Method \n",
    "    - Read comma separated values (CSV) files and raw text (TXT) files into a DataFrame\n",
    "  - read_csv function\n",
    "      - can specify a very broad set of parameters at import time\n",
    "          - allows to accurately configure how data is read and parsed by specifying correct structure, encoding etc\n",
    "      - Common parameters: \n",
    "        - filepath: Path of the file to be read.\n",
    "        - sep: Character(s) that are used as a field separator in the file.\n",
    "        - header: Index of the row containing the names of the columns (None if none).\n",
    "        - index_col: Index of the column or sequence of indexes that should be used as index of rows of the data.\n",
    "        - names: Sequence containing the names of the columns (used together with header = None).\n",
    "        - skiprows: Number of rows or sequence of row indexes to ignore in the load.\n",
    "        - na_values: Sequence of values that, if found in the file, should be treated as NaN.\n",
    "        - dtype: Dictionary in which the keys will be column names and the values will be types of NumPy to which their content must be converted.\n",
    "        - parse_dates: Flag that indicates if Python should try to parse data with a format similar to dates as dates. You can enter a list of column names that must be joined for the parsing as a date.\n",
    "        - date_parser: Function to use to try to parse dates.\n",
    "        - nrows: Number of rows to read from the beginning of the file.\n",
    "        - skip_footer: Number of rows to ignore at the end of the file.\n",
    "        - encoding: Encoding to be expected from the file read.\n",
    "        - squeeze: Flag that indicates that if the data read only contains one column the result is a Series instead of a DataFrame.\n",
    "        - thousands: Character to use to detect the thousands separator.\n",
    "        - decimal: Character to use to detect the decimal separator.\n",
    "        - skip_blank_lines: Flag that indicates whether blank lines should be ignored."
   ]
  },
  {
   "cell_type": "code",
   "execution_count": null,
   "metadata": {},
   "outputs": [],
   "source": [
    "# First CSV file to read \n",
    "# When using read_csv method, pass an explicit filepath parameter indicating the path CSV file is\n",
    "# Any valid string path is acceptable\n",
    "#       - string could be a URL\n",
    "#           - Valid URL schemes include HTTP, FTP, S3, and file\n",
    "#           - For file URLs, a host is expected. A local file could be: file://localhost/path/to/table.csv\n",
    "\n",
    "\n",
    "# read_csv method to load data directly from an URL:\n",
    "csv_url = \"https://raw.githubusercontent.com/datasets/gdp/master/data/gdp.csv\"\n",
    "\n",
    "pd.read_csv(csv_url).head()"
   ]
  },
  {
   "cell_type": "code",
   "execution_count": 15,
   "metadata": {},
   "outputs": [
    {
     "data": {
      "text/html": [
       "<div>\n",
       "<style scoped>\n",
       "    .dataframe tbody tr th:only-of-type {\n",
       "        vertical-align: middle;\n",
       "    }\n",
       "\n",
       "    .dataframe tbody tr th {\n",
       "        vertical-align: top;\n",
       "    }\n",
       "\n",
       "    .dataframe thead th {\n",
       "        text-align: right;\n",
       "    }\n",
       "</style>\n",
       "<table border=\"1\" class=\"dataframe\">\n",
       "  <thead>\n",
       "    <tr style=\"text-align: right;\">\n",
       "      <th></th>\n",
       "      <th>2/4/17 0:00</th>\n",
       "      <th>1099.169125</th>\n",
       "    </tr>\n",
       "  </thead>\n",
       "  <tbody>\n",
       "    <tr>\n",
       "      <th>0</th>\n",
       "      <td>3/4/17 0:00</td>\n",
       "      <td>1141.813</td>\n",
       "    </tr>\n",
       "    <tr>\n",
       "      <th>1</th>\n",
       "      <td>4/4/17 0:00</td>\n",
       "      <td>?</td>\n",
       "    </tr>\n",
       "    <tr>\n",
       "      <th>2</th>\n",
       "      <td>5/4/17 0:00</td>\n",
       "      <td>1133.079314</td>\n",
       "    </tr>\n",
       "    <tr>\n",
       "      <th>3</th>\n",
       "      <td>6/4/17 0:00</td>\n",
       "      <td>-</td>\n",
       "    </tr>\n",
       "    <tr>\n",
       "      <th>4</th>\n",
       "      <td>7/4/17 0:00</td>\n",
       "      <td>-</td>\n",
       "    </tr>\n",
       "  </tbody>\n",
       "</table>\n",
       "</div>"
      ],
      "text/plain": [
       "   2/4/17 0:00  1099.169125\n",
       "0  3/4/17 0:00     1141.813\n",
       "1  4/4/17 0:00            ?\n",
       "2  5/4/17 0:00  1133.079314\n",
       "3  6/4/17 0:00            -\n",
       "4  7/4/17 0:00            -"
      ]
     },
     "execution_count": 15,
     "metadata": {},
     "output_type": "execute_result"
    }
   ],
   "source": [
    "# use a local file\n",
    "\n",
    "df = pd.read_csv('btc-market-price.csv')\n",
    "\n",
    "df.head()\n",
    "\n",
    "# pandas -> infer everything related to data\n",
    "# but in most of the cases need to explicitly tell pandas how data to be loaded"
   ]
  },
  {
   "attachments": {},
   "cell_type": "markdown",
   "metadata": {},
   "source": [
    "First row behavior with header parameter "
   ]
  },
  {
   "cell_type": "code",
   "execution_count": 16,
   "metadata": {},
   "outputs": [],
   "source": [
    "# CSV file being read has only two columns: Timestamp and Price\n",
    "# Doesn't have a header\n",
    "# Pandas automatically assigned the first row of data as headers, which is incorrect\n",
    "# Overwrite this behavior with the header parameter\n",
    "\n",
    "df = pd.read_csv('btc-market-price.csv',\n",
    "                 header=None)"
   ]
  },
  {
   "cell_type": "code",
   "execution_count": 17,
   "metadata": {},
   "outputs": [
    {
     "data": {
      "text/html": [
       "<div>\n",
       "<style scoped>\n",
       "    .dataframe tbody tr th:only-of-type {\n",
       "        vertical-align: middle;\n",
       "    }\n",
       "\n",
       "    .dataframe tbody tr th {\n",
       "        vertical-align: top;\n",
       "    }\n",
       "\n",
       "    .dataframe thead th {\n",
       "        text-align: right;\n",
       "    }\n",
       "</style>\n",
       "<table border=\"1\" class=\"dataframe\">\n",
       "  <thead>\n",
       "    <tr style=\"text-align: right;\">\n",
       "      <th></th>\n",
       "      <th>0</th>\n",
       "      <th>1</th>\n",
       "    </tr>\n",
       "  </thead>\n",
       "  <tbody>\n",
       "    <tr>\n",
       "      <th>0</th>\n",
       "      <td>2/4/17 0:00</td>\n",
       "      <td>1099.169125</td>\n",
       "    </tr>\n",
       "    <tr>\n",
       "      <th>1</th>\n",
       "      <td>3/4/17 0:00</td>\n",
       "      <td>1141.813</td>\n",
       "    </tr>\n",
       "    <tr>\n",
       "      <th>2</th>\n",
       "      <td>4/4/17 0:00</td>\n",
       "      <td>?</td>\n",
       "    </tr>\n",
       "    <tr>\n",
       "      <th>3</th>\n",
       "      <td>5/4/17 0:00</td>\n",
       "      <td>1133.079314</td>\n",
       "    </tr>\n",
       "    <tr>\n",
       "      <th>4</th>\n",
       "      <td>6/4/17 0:00</td>\n",
       "      <td>-</td>\n",
       "    </tr>\n",
       "  </tbody>\n",
       "</table>\n",
       "</div>"
      ],
      "text/plain": [
       "             0            1\n",
       "0  2/4/17 0:00  1099.169125\n",
       "1  3/4/17 0:00     1141.813\n",
       "2  4/4/17 0:00            ?\n",
       "3  5/4/17 0:00  1133.079314\n",
       "4  6/4/17 0:00            -"
      ]
     },
     "execution_count": 17,
     "metadata": {},
     "output_type": "execute_result"
    }
   ],
   "source": [
    "df.head()"
   ]
  },
  {
   "attachments": {},
   "cell_type": "markdown",
   "metadata": {},
   "source": [
    "Missing values with na_values parameter"
   ]
  },
  {
   "cell_type": "code",
   "execution_count": 19,
   "metadata": {},
   "outputs": [],
   "source": [
    "# define na_values parameter with values  to be recognized as NA/NaN. In this case empty strings '', ? and - will be recognized as null values.\n",
    "\n",
    "df = pd.read_csv('btc-market-price.csv',\n",
    "                 header=None,   # By setting None, Pandas will assign default column names (integer values) to the DataFrame\n",
    "                 na_values=['', '?', '-'])\n",
    "                #  specifies a list of values that should be treated as missing values (NaN) when reading the CSV file.\n",
    "                #   In this case, empty strings (''), question marks ('?'), and hyphens ('-') will be considered as missing values"
   ]
  },
  {
   "cell_type": "code",
   "execution_count": 20,
   "metadata": {},
   "outputs": [
    {
     "data": {
      "text/html": [
       "<div>\n",
       "<style scoped>\n",
       "    .dataframe tbody tr th:only-of-type {\n",
       "        vertical-align: middle;\n",
       "    }\n",
       "\n",
       "    .dataframe tbody tr th {\n",
       "        vertical-align: top;\n",
       "    }\n",
       "\n",
       "    .dataframe thead th {\n",
       "        text-align: right;\n",
       "    }\n",
       "</style>\n",
       "<table border=\"1\" class=\"dataframe\">\n",
       "  <thead>\n",
       "    <tr style=\"text-align: right;\">\n",
       "      <th></th>\n",
       "      <th>0</th>\n",
       "      <th>1</th>\n",
       "    </tr>\n",
       "  </thead>\n",
       "  <tbody>\n",
       "    <tr>\n",
       "      <th>0</th>\n",
       "      <td>2/4/17 0:00</td>\n",
       "      <td>1099.169125</td>\n",
       "    </tr>\n",
       "    <tr>\n",
       "      <th>1</th>\n",
       "      <td>3/4/17 0:00</td>\n",
       "      <td>1141.813000</td>\n",
       "    </tr>\n",
       "    <tr>\n",
       "      <th>2</th>\n",
       "      <td>4/4/17 0:00</td>\n",
       "      <td>NaN</td>\n",
       "    </tr>\n",
       "    <tr>\n",
       "      <th>3</th>\n",
       "      <td>5/4/17 0:00</td>\n",
       "      <td>1133.079314</td>\n",
       "    </tr>\n",
       "    <tr>\n",
       "      <th>4</th>\n",
       "      <td>6/4/17 0:00</td>\n",
       "      <td>NaN</td>\n",
       "    </tr>\n",
       "  </tbody>\n",
       "</table>\n",
       "</div>"
      ],
      "text/plain": [
       "             0            1\n",
       "0  2/4/17 0:00  1099.169125\n",
       "1  3/4/17 0:00  1141.813000\n",
       "2  4/4/17 0:00          NaN\n",
       "3  5/4/17 0:00  1133.079314\n",
       "4  6/4/17 0:00          NaN"
      ]
     },
     "execution_count": 20,
     "metadata": {},
     "output_type": "execute_result"
    }
   ],
   "source": [
    "df.head()"
   ]
  },
  {
   "attachments": {},
   "cell_type": "markdown",
   "metadata": {},
   "source": [
    "Column names using names parameter"
   ]
  },
  {
   "cell_type": "code",
   "execution_count": 21,
   "metadata": {},
   "outputs": [],
   "source": [
    "# add that columns names using the names parameter\n",
    "\n",
    "df = pd.read_csv('btc-market-price.csv',\n",
    "                 header=None,\n",
    "                 na_values=['', '?', '-'],\n",
    "                 names=['Timestamp', 'Price'])"
   ]
  },
  {
   "attachments": {},
   "cell_type": "markdown",
   "metadata": {},
   "source": [
    "Column types using dtype parameter \n",
    "    - use dtype to force pandas to use a certain type \n",
    "        - w/o it, pandas will try to figure out each column type automatically"
   ]
  },
  {
   "cell_type": "code",
   "execution_count": 22,
   "metadata": {},
   "outputs": [],
   "source": [
    "# force the Price column to be float.\n",
    "\n",
    "df = pd.read_csv('btc-market-price.csv',\n",
    "                 header=None,\n",
    "                 na_values=['', '?', '-'],\n",
    "                 names=['Timestamp', 'Price'],\n",
    "                 dtype={'Price': 'float'})"
   ]
  },
  {
   "cell_type": "code",
   "execution_count": 23,
   "metadata": {},
   "outputs": [
    {
     "data": {
      "text/html": [
       "<div>\n",
       "<style scoped>\n",
       "    .dataframe tbody tr th:only-of-type {\n",
       "        vertical-align: middle;\n",
       "    }\n",
       "\n",
       "    .dataframe tbody tr th {\n",
       "        vertical-align: top;\n",
       "    }\n",
       "\n",
       "    .dataframe thead th {\n",
       "        text-align: right;\n",
       "    }\n",
       "</style>\n",
       "<table border=\"1\" class=\"dataframe\">\n",
       "  <thead>\n",
       "    <tr style=\"text-align: right;\">\n",
       "      <th></th>\n",
       "      <th>Timestamp</th>\n",
       "      <th>Price</th>\n",
       "    </tr>\n",
       "  </thead>\n",
       "  <tbody>\n",
       "    <tr>\n",
       "      <th>0</th>\n",
       "      <td>2/4/17 0:00</td>\n",
       "      <td>1099.169125</td>\n",
       "    </tr>\n",
       "    <tr>\n",
       "      <th>1</th>\n",
       "      <td>3/4/17 0:00</td>\n",
       "      <td>1141.813000</td>\n",
       "    </tr>\n",
       "    <tr>\n",
       "      <th>2</th>\n",
       "      <td>4/4/17 0:00</td>\n",
       "      <td>NaN</td>\n",
       "    </tr>\n",
       "    <tr>\n",
       "      <th>3</th>\n",
       "      <td>5/4/17 0:00</td>\n",
       "      <td>1133.079314</td>\n",
       "    </tr>\n",
       "    <tr>\n",
       "      <th>4</th>\n",
       "      <td>6/4/17 0:00</td>\n",
       "      <td>NaN</td>\n",
       "    </tr>\n",
       "  </tbody>\n",
       "</table>\n",
       "</div>"
      ],
      "text/plain": [
       "     Timestamp        Price\n",
       "0  2/4/17 0:00  1099.169125\n",
       "1  3/4/17 0:00  1141.813000\n",
       "2  4/4/17 0:00          NaN\n",
       "3  5/4/17 0:00  1133.079314\n",
       "4  6/4/17 0:00          NaN"
      ]
     },
     "execution_count": 23,
     "metadata": {},
     "output_type": "execute_result"
    }
   ],
   "source": [
    "df.head()"
   ]
  },
  {
   "cell_type": "code",
   "execution_count": 25,
   "metadata": {},
   "outputs": [
    {
     "data": {
      "text/plain": [
       "Timestamp     object\n",
       "Price        float64\n",
       "dtype: object"
      ]
     },
     "execution_count": 25,
     "metadata": {},
     "output_type": "execute_result"
    }
   ],
   "source": [
    "df.dtypes"
   ]
  },
  {
   "cell_type": "code",
   "execution_count": 26,
   "metadata": {},
   "outputs": [
    {
     "name": "stderr",
     "output_type": "stream",
     "text": [
      "/var/folders/5k/cp4n1pls47gcgb620snyj2t00000gn/T/ipykernel_22854/3850372001.py:7: UserWarning: Could not infer format, so each element will be parsed individually, falling back to `dateutil`. To ensure parsing is consistent and as-expected, please specify a format.\n",
      "  pd.to_datetime(df['Timestamp']).head()\n"
     ]
    },
    {
     "data": {
      "text/plain": [
       "0   2017-02-04\n",
       "1   2017-03-04\n",
       "2   2017-04-04\n",
       "3   2017-05-04\n",
       "4   2017-06-04\n",
       "Name: Timestamp, dtype: datetime64[ns]"
      ]
     },
     "execution_count": 26,
     "metadata": {},
     "output_type": "execute_result"
    }
   ],
   "source": [
    "# From df.dtypes can see that: \n",
    "# - Timestamp column was interpreted as a regular string (object in pandas notation)\n",
    "#         -> can parse it manually using a vectorized operation\n",
    "\n",
    "#  parse Timestamp column to Datetime objects using to_datetime method:\n",
    "\n",
    "pd.to_datetime(df['Timestamp']).head()"
   ]
  },
  {
   "cell_type": "code",
   "execution_count": 27,
   "metadata": {},
   "outputs": [
    {
     "name": "stderr",
     "output_type": "stream",
     "text": [
      "/var/folders/5k/cp4n1pls47gcgb620snyj2t00000gn/T/ipykernel_22854/766710655.py:1: UserWarning: Could not infer format, so each element will be parsed individually, falling back to `dateutil`. To ensure parsing is consistent and as-expected, please specify a format.\n",
      "  df['Timestamp'] = pd.to_datetime(df['Timestamp'])\n"
     ]
    }
   ],
   "source": [
    "df['Timestamp'] = pd.to_datetime(df['Timestamp'])"
   ]
  },
  {
   "cell_type": "code",
   "execution_count": 28,
   "metadata": {},
   "outputs": [
    {
     "data": {
      "text/html": [
       "<div>\n",
       "<style scoped>\n",
       "    .dataframe tbody tr th:only-of-type {\n",
       "        vertical-align: middle;\n",
       "    }\n",
       "\n",
       "    .dataframe tbody tr th {\n",
       "        vertical-align: top;\n",
       "    }\n",
       "\n",
       "    .dataframe thead th {\n",
       "        text-align: right;\n",
       "    }\n",
       "</style>\n",
       "<table border=\"1\" class=\"dataframe\">\n",
       "  <thead>\n",
       "    <tr style=\"text-align: right;\">\n",
       "      <th></th>\n",
       "      <th>Timestamp</th>\n",
       "      <th>Price</th>\n",
       "    </tr>\n",
       "  </thead>\n",
       "  <tbody>\n",
       "    <tr>\n",
       "      <th>0</th>\n",
       "      <td>2017-02-04</td>\n",
       "      <td>1099.169125</td>\n",
       "    </tr>\n",
       "    <tr>\n",
       "      <th>1</th>\n",
       "      <td>2017-03-04</td>\n",
       "      <td>1141.813000</td>\n",
       "    </tr>\n",
       "    <tr>\n",
       "      <th>2</th>\n",
       "      <td>2017-04-04</td>\n",
       "      <td>NaN</td>\n",
       "    </tr>\n",
       "    <tr>\n",
       "      <th>3</th>\n",
       "      <td>2017-05-04</td>\n",
       "      <td>1133.079314</td>\n",
       "    </tr>\n",
       "    <tr>\n",
       "      <th>4</th>\n",
       "      <td>2017-06-04</td>\n",
       "      <td>NaN</td>\n",
       "    </tr>\n",
       "  </tbody>\n",
       "</table>\n",
       "</div>"
      ],
      "text/plain": [
       "   Timestamp        Price\n",
       "0 2017-02-04  1099.169125\n",
       "1 2017-03-04  1141.813000\n",
       "2 2017-04-04          NaN\n",
       "3 2017-05-04  1133.079314\n",
       "4 2017-06-04          NaN"
      ]
     },
     "execution_count": 28,
     "metadata": {},
     "output_type": "execute_result"
    }
   ],
   "source": [
    "df.head()"
   ]
  },
  {
   "cell_type": "code",
   "execution_count": 29,
   "metadata": {},
   "outputs": [
    {
     "data": {
      "text/plain": [
       "Timestamp    datetime64[ns]\n",
       "Price               float64\n",
       "dtype: object"
      ]
     },
     "execution_count": 29,
     "metadata": {},
     "output_type": "execute_result"
    }
   ],
   "source": [
    "df.dtypes"
   ]
  },
  {
   "attachments": {},
   "cell_type": "markdown",
   "metadata": {},
   "source": [
    "Data parser using parse_dates parameter \n",
    "    - Another way to deal with Datetime objects \n",
    "        - Use parse_dates parameters with position of columns with dates"
   ]
  },
  {
   "cell_type": "code",
   "execution_count": 30,
   "metadata": {},
   "outputs": [
    {
     "name": "stderr",
     "output_type": "stream",
     "text": [
      "/var/folders/5k/cp4n1pls47gcgb620snyj2t00000gn/T/ipykernel_22854/2018990032.py:1: UserWarning: Could not infer format, so each element will be parsed individually, falling back to `dateutil`. To ensure parsing is consistent and as-expected, please specify a format.\n",
      "  df = pd.read_csv('btc-market-price.csv',\n"
     ]
    }
   ],
   "source": [
    "df = pd.read_csv('btc-market-price.csv',\n",
    "                 header=None,\n",
    "                 na_values=['', '?', '-'],\n",
    "                 names=['Timestamp', 'Price'],\n",
    "                 dtype={'Price': 'float'},\n",
    "                 parse_dates=[0])"
   ]
  },
  {
   "cell_type": "code",
   "execution_count": 31,
   "metadata": {},
   "outputs": [
    {
     "data": {
      "text/html": [
       "<div>\n",
       "<style scoped>\n",
       "    .dataframe tbody tr th:only-of-type {\n",
       "        vertical-align: middle;\n",
       "    }\n",
       "\n",
       "    .dataframe tbody tr th {\n",
       "        vertical-align: top;\n",
       "    }\n",
       "\n",
       "    .dataframe thead th {\n",
       "        text-align: right;\n",
       "    }\n",
       "</style>\n",
       "<table border=\"1\" class=\"dataframe\">\n",
       "  <thead>\n",
       "    <tr style=\"text-align: right;\">\n",
       "      <th></th>\n",
       "      <th>Timestamp</th>\n",
       "      <th>Price</th>\n",
       "    </tr>\n",
       "  </thead>\n",
       "  <tbody>\n",
       "    <tr>\n",
       "      <th>0</th>\n",
       "      <td>2017-02-04</td>\n",
       "      <td>1099.169125</td>\n",
       "    </tr>\n",
       "    <tr>\n",
       "      <th>1</th>\n",
       "      <td>2017-03-04</td>\n",
       "      <td>1141.813000</td>\n",
       "    </tr>\n",
       "    <tr>\n",
       "      <th>2</th>\n",
       "      <td>2017-04-04</td>\n",
       "      <td>NaN</td>\n",
       "    </tr>\n",
       "    <tr>\n",
       "      <th>3</th>\n",
       "      <td>2017-05-04</td>\n",
       "      <td>1133.079314</td>\n",
       "    </tr>\n",
       "    <tr>\n",
       "      <th>4</th>\n",
       "      <td>2017-06-04</td>\n",
       "      <td>NaN</td>\n",
       "    </tr>\n",
       "  </tbody>\n",
       "</table>\n",
       "</div>"
      ],
      "text/plain": [
       "   Timestamp        Price\n",
       "0 2017-02-04  1099.169125\n",
       "1 2017-03-04  1141.813000\n",
       "2 2017-04-04          NaN\n",
       "3 2017-05-04  1133.079314\n",
       "4 2017-06-04          NaN"
      ]
     },
     "execution_count": 31,
     "metadata": {},
     "output_type": "execute_result"
    }
   ],
   "source": [
    "df.head()"
   ]
  },
  {
   "cell_type": "code",
   "execution_count": 32,
   "metadata": {},
   "outputs": [
    {
     "data": {
      "text/plain": [
       "Timestamp    datetime64[ns]\n",
       "Price               float64\n",
       "dtype: object"
      ]
     },
     "execution_count": 32,
     "metadata": {},
     "output_type": "execute_result"
    }
   ],
   "source": [
    "df.dtypes"
   ]
  },
  {
   "attachments": {},
   "cell_type": "markdown",
   "metadata": {},
   "source": [
    "Adding index to data using index_col parameter\n",
    "    - Default,  pandas will automatically assign a numeric auto incremental index or row label starting with zero\n",
    "    - Override default behavior by setting index_col property to a column\n",
    "        - takes a numeric value representing the index or a string of the column name for setting a single column as index or a list of numeric values or strings for creating a multi-index"
   ]
  },
  {
   "cell_type": "code",
   "execution_count": 33,
   "metadata": {},
   "outputs": [
    {
     "name": "stderr",
     "output_type": "stream",
     "text": [
      "/var/folders/5k/cp4n1pls47gcgb620snyj2t00000gn/T/ipykernel_22854/2810974449.py:3: UserWarning: Could not infer format, so each element will be parsed individually, falling back to `dateutil`. To ensure parsing is consistent and as-expected, please specify a format.\n",
      "  df = pd.read_csv('btc-market-price.csv',\n"
     ]
    }
   ],
   "source": [
    "# choose the first column, Timestamp, as index (index=0) by passing zero to the index_col argument\n",
    "\n",
    "df = pd.read_csv('btc-market-price.csv',\n",
    "                 header=None,\n",
    "                 na_values=['', '?', '-'],\n",
    "                 names=['Timestamp', 'Price'],\n",
    "                 dtype={'Price': 'float'},\n",
    "                 parse_dates=[0],\n",
    "                 index_col=[0])"
   ]
  },
  {
   "cell_type": "code",
   "execution_count": 34,
   "metadata": {},
   "outputs": [
    {
     "data": {
      "text/html": [
       "<div>\n",
       "<style scoped>\n",
       "    .dataframe tbody tr th:only-of-type {\n",
       "        vertical-align: middle;\n",
       "    }\n",
       "\n",
       "    .dataframe tbody tr th {\n",
       "        vertical-align: top;\n",
       "    }\n",
       "\n",
       "    .dataframe thead th {\n",
       "        text-align: right;\n",
       "    }\n",
       "</style>\n",
       "<table border=\"1\" class=\"dataframe\">\n",
       "  <thead>\n",
       "    <tr style=\"text-align: right;\">\n",
       "      <th></th>\n",
       "      <th>Price</th>\n",
       "    </tr>\n",
       "    <tr>\n",
       "      <th>Timestamp</th>\n",
       "      <th></th>\n",
       "    </tr>\n",
       "  </thead>\n",
       "  <tbody>\n",
       "    <tr>\n",
       "      <th>2017-02-04</th>\n",
       "      <td>1099.169125</td>\n",
       "    </tr>\n",
       "    <tr>\n",
       "      <th>2017-03-04</th>\n",
       "      <td>1141.813000</td>\n",
       "    </tr>\n",
       "    <tr>\n",
       "      <th>2017-04-04</th>\n",
       "      <td>NaN</td>\n",
       "    </tr>\n",
       "    <tr>\n",
       "      <th>2017-05-04</th>\n",
       "      <td>1133.079314</td>\n",
       "    </tr>\n",
       "    <tr>\n",
       "      <th>2017-06-04</th>\n",
       "      <td>NaN</td>\n",
       "    </tr>\n",
       "  </tbody>\n",
       "</table>\n",
       "</div>"
      ],
      "text/plain": [
       "                  Price\n",
       "Timestamp              \n",
       "2017-02-04  1099.169125\n",
       "2017-03-04  1141.813000\n",
       "2017-04-04          NaN\n",
       "2017-05-04  1133.079314\n",
       "2017-06-04          NaN"
      ]
     },
     "execution_count": 34,
     "metadata": {},
     "output_type": "execute_result"
    }
   ],
   "source": [
    "df.head()"
   ]
  },
  {
   "cell_type": "code",
   "execution_count": 35,
   "metadata": {},
   "outputs": [
    {
     "data": {
      "text/plain": [
       "Price    float64\n",
       "dtype: object"
      ]
     },
     "execution_count": 35,
     "metadata": {},
     "output_type": "execute_result"
    }
   ],
   "source": [
    "df.dtypes"
   ]
  },
  {
   "attachments": {},
   "cell_type": "markdown",
   "metadata": {},
   "source": [
    "More Challenging Parsing\n",
    "    - Reading another CSV file with following columns: \n",
    "      - first_name\n",
    "      - last_name\n",
    "      - age\n",
    "      - math_score\n",
    "      - french_score\n",
    "      - next_test_date"
   ]
  },
  {
   "cell_type": "code",
   "execution_count": 36,
   "metadata": {},
   "outputs": [],
   "source": [
    "exam_df = pd.read_csv('exam_review.csv')"
   ]
  },
  {
   "cell_type": "code",
   "execution_count": 37,
   "metadata": {},
   "outputs": [
    {
     "data": {
      "text/html": [
       "<div>\n",
       "<style scoped>\n",
       "    .dataframe tbody tr th:only-of-type {\n",
       "        vertical-align: middle;\n",
       "    }\n",
       "\n",
       "    .dataframe tbody tr th {\n",
       "        vertical-align: top;\n",
       "    }\n",
       "\n",
       "    .dataframe thead th {\n",
       "        text-align: right;\n",
       "    }\n",
       "</style>\n",
       "<table border=\"1\" class=\"dataframe\">\n",
       "  <thead>\n",
       "    <tr style=\"text-align: right;\">\n",
       "      <th></th>\n",
       "      <th></th>\n",
       "      <th>first_name&gt;last_name&gt;age&gt;math_score&gt;french_score</th>\n",
       "    </tr>\n",
       "  </thead>\n",
       "  <tbody>\n",
       "    <tr>\n",
       "      <th>Ray&gt;Morley&gt;18&gt;\"68</th>\n",
       "      <th>000\"&gt;\"75</th>\n",
       "      <td>000\"</td>\n",
       "    </tr>\n",
       "    <tr>\n",
       "      <th>Melvin&gt;Scott&gt;24&gt;77&gt;83</th>\n",
       "      <th>NaN</th>\n",
       "      <td>NaN</td>\n",
       "    </tr>\n",
       "    <tr>\n",
       "      <th>Amirah&gt;Haley&gt;22&gt;92&gt;67</th>\n",
       "      <th>NaN</th>\n",
       "      <td>NaN</td>\n",
       "    </tr>\n",
       "    <tr>\n",
       "      <th>Gerard&gt;Mills&gt;19&gt;\"78</th>\n",
       "      <th>000\"&gt;72</th>\n",
       "      <td>NaN</td>\n",
       "    </tr>\n",
       "    <tr>\n",
       "      <th>Amy&gt;Grimes&gt;23&gt;91&gt;81</th>\n",
       "      <th>NaN</th>\n",
       "      <td>NaN</td>\n",
       "    </tr>\n",
       "  </tbody>\n",
       "</table>\n",
       "</div>"
      ],
      "text/plain": [
       "                               first_name>last_name>age>math_score>french_score\n",
       "Ray>Morley>18>\"68     000\">\"75                                             000\"\n",
       "Melvin>Scott>24>77>83 NaN                                                   NaN\n",
       "Amirah>Haley>22>92>67 NaN                                                   NaN\n",
       "Gerard>Mills>19>\"78   000\">72                                               NaN\n",
       "Amy>Grimes>23>91>81   NaN                                                   NaN"
      ]
     },
     "execution_count": 37,
     "metadata": {},
     "output_type": "execute_result"
    }
   ],
   "source": [
    "exam_df"
   ]
  },
  {
   "attachments": {},
   "cell_type": "markdown",
   "metadata": {},
   "source": [
    "Custom data delimiters using sep parameter\n",
    "    - Can define which delimiter to use by using the sep parameter\n",
    "          - Else, pandas will automatically detect the separator\n",
    "    - In most of the CSV files separator will be comma (,) and will be automatically detected\n",
    "    - But can find files with other separators like semicolon (;), tabs (\\t, specially on TSV files), whitespaces or any other special character"
   ]
  },
  {
   "cell_type": "code",
   "execution_count": 38,
   "metadata": {},
   "outputs": [],
   "source": [
    "# Case: separator is a > character.\n",
    "\n",
    "exam_df = pd.read_csv('exam_review.csv',\n",
    "                      sep='>')"
   ]
  },
  {
   "cell_type": "code",
   "execution_count": 39,
   "metadata": {},
   "outputs": [
    {
     "data": {
      "text/html": [
       "<div>\n",
       "<style scoped>\n",
       "    .dataframe tbody tr th:only-of-type {\n",
       "        vertical-align: middle;\n",
       "    }\n",
       "\n",
       "    .dataframe tbody tr th {\n",
       "        vertical-align: top;\n",
       "    }\n",
       "\n",
       "    .dataframe thead th {\n",
       "        text-align: right;\n",
       "    }\n",
       "</style>\n",
       "<table border=\"1\" class=\"dataframe\">\n",
       "  <thead>\n",
       "    <tr style=\"text-align: right;\">\n",
       "      <th></th>\n",
       "      <th>first_name</th>\n",
       "      <th>last_name</th>\n",
       "      <th>age</th>\n",
       "      <th>math_score</th>\n",
       "      <th>french_score</th>\n",
       "    </tr>\n",
       "  </thead>\n",
       "  <tbody>\n",
       "    <tr>\n",
       "      <th>0</th>\n",
       "      <td>Ray</td>\n",
       "      <td>Morley</td>\n",
       "      <td>18</td>\n",
       "      <td>68,000</td>\n",
       "      <td>75,000</td>\n",
       "    </tr>\n",
       "    <tr>\n",
       "      <th>1</th>\n",
       "      <td>Melvin</td>\n",
       "      <td>Scott</td>\n",
       "      <td>24</td>\n",
       "      <td>77</td>\n",
       "      <td>83</td>\n",
       "    </tr>\n",
       "    <tr>\n",
       "      <th>2</th>\n",
       "      <td>Amirah</td>\n",
       "      <td>Haley</td>\n",
       "      <td>22</td>\n",
       "      <td>92</td>\n",
       "      <td>67</td>\n",
       "    </tr>\n",
       "    <tr>\n",
       "      <th>3</th>\n",
       "      <td>Gerard</td>\n",
       "      <td>Mills</td>\n",
       "      <td>19</td>\n",
       "      <td>78,000</td>\n",
       "      <td>72</td>\n",
       "    </tr>\n",
       "    <tr>\n",
       "      <th>4</th>\n",
       "      <td>Amy</td>\n",
       "      <td>Grimes</td>\n",
       "      <td>23</td>\n",
       "      <td>91</td>\n",
       "      <td>81</td>\n",
       "    </tr>\n",
       "  </tbody>\n",
       "</table>\n",
       "</div>"
      ],
      "text/plain": [
       "  first_name last_name  age math_score french_score\n",
       "0        Ray    Morley   18     68,000       75,000\n",
       "1     Melvin     Scott   24         77           83\n",
       "2     Amirah     Haley   22         92           67\n",
       "3     Gerard     Mills   19     78,000           72\n",
       "4        Amy    Grimes   23         91           81"
      ]
     },
     "execution_count": 39,
     "metadata": {},
     "output_type": "execute_result"
    }
   ],
   "source": [
    "exam_df"
   ]
  },
  {
   "attachments": {},
   "cell_type": "markdown",
   "metadata": {},
   "source": [
    "Custom Data Encoding \n",
    "    - Files are stored using different \"encodings\"\n",
    "            - Such as:  ASCII, UTF-8, latin1, etc\n",
    "    - While reading data custom encoding can be defined with the encoding parameter: \n",
    "            - encoding='UTF-8': will be used if data is UTF-8 encoded.\n",
    "            - encoding='iso-8859-1': will be used if data is ISO/IEC 8859-1 (\"extended ASCII\") encoded.\n",
    "\n"
   ]
  },
  {
   "attachments": {},
   "cell_type": "markdown",
   "metadata": {},
   "source": [
    "Custom numeric decimal and thousands character \n",
    "    - The decimal and thousands characters could change between datasets"
   ]
  },
  {
   "cell_type": "code",
   "execution_count": 40,
   "metadata": {},
   "outputs": [],
   "source": [
    "# If have a column containing a comma (,) to indicate the decimal or thousands place\n",
    "# this column would be considered a string and not numeric\n",
    "\n",
    "exam_df = pd.read_csv('exam_review.csv',\n",
    "                      sep='>')"
   ]
  },
  {
   "cell_type": "code",
   "execution_count": 41,
   "metadata": {},
   "outputs": [
    {
     "data": {
      "text/html": [
       "<div>\n",
       "<style scoped>\n",
       "    .dataframe tbody tr th:only-of-type {\n",
       "        vertical-align: middle;\n",
       "    }\n",
       "\n",
       "    .dataframe tbody tr th {\n",
       "        vertical-align: top;\n",
       "    }\n",
       "\n",
       "    .dataframe thead th {\n",
       "        text-align: right;\n",
       "    }\n",
       "</style>\n",
       "<table border=\"1\" class=\"dataframe\">\n",
       "  <thead>\n",
       "    <tr style=\"text-align: right;\">\n",
       "      <th></th>\n",
       "      <th>first_name</th>\n",
       "      <th>last_name</th>\n",
       "      <th>age</th>\n",
       "      <th>math_score</th>\n",
       "      <th>french_score</th>\n",
       "    </tr>\n",
       "  </thead>\n",
       "  <tbody>\n",
       "    <tr>\n",
       "      <th>0</th>\n",
       "      <td>Ray</td>\n",
       "      <td>Morley</td>\n",
       "      <td>18</td>\n",
       "      <td>68,000</td>\n",
       "      <td>75,000</td>\n",
       "    </tr>\n",
       "    <tr>\n",
       "      <th>1</th>\n",
       "      <td>Melvin</td>\n",
       "      <td>Scott</td>\n",
       "      <td>24</td>\n",
       "      <td>77</td>\n",
       "      <td>83</td>\n",
       "    </tr>\n",
       "    <tr>\n",
       "      <th>2</th>\n",
       "      <td>Amirah</td>\n",
       "      <td>Haley</td>\n",
       "      <td>22</td>\n",
       "      <td>92</td>\n",
       "      <td>67</td>\n",
       "    </tr>\n",
       "    <tr>\n",
       "      <th>3</th>\n",
       "      <td>Gerard</td>\n",
       "      <td>Mills</td>\n",
       "      <td>19</td>\n",
       "      <td>78,000</td>\n",
       "      <td>72</td>\n",
       "    </tr>\n",
       "    <tr>\n",
       "      <th>4</th>\n",
       "      <td>Amy</td>\n",
       "      <td>Grimes</td>\n",
       "      <td>23</td>\n",
       "      <td>91</td>\n",
       "      <td>81</td>\n",
       "    </tr>\n",
       "  </tbody>\n",
       "</table>\n",
       "</div>"
      ],
      "text/plain": [
       "  first_name last_name  age math_score french_score\n",
       "0        Ray    Morley   18     68,000       75,000\n",
       "1     Melvin     Scott   24         77           83\n",
       "2     Amirah     Haley   22         92           67\n",
       "3     Gerard     Mills   19     78,000           72\n",
       "4        Amy    Grimes   23         91           81"
      ]
     },
     "execution_count": 41,
     "metadata": {},
     "output_type": "execute_result"
    }
   ],
   "source": [
    "exam_df"
   ]
  },
  {
   "cell_type": "code",
   "execution_count": 42,
   "metadata": {},
   "outputs": [
    {
     "data": {
      "text/plain": [
       "math_score      object\n",
       "french_score    object\n",
       "dtype: object"
      ]
     },
     "execution_count": 42,
     "metadata": {},
     "output_type": "execute_result"
    }
   ],
   "source": [
    "exam_df[['math_score', 'french_score']].dtypes"
   ]
  },
  {
   "cell_type": "code",
   "execution_count": 43,
   "metadata": {},
   "outputs": [],
   "source": [
    "# use the decimal and/or thousands parameters to indicate correct decimal and/or thousands indicators\n",
    "\n",
    "exam_df = pd.read_csv('exam_review.csv',\n",
    "                      sep='>',\n",
    "                      decimal=',')"
   ]
  },
  {
   "cell_type": "code",
   "execution_count": 44,
   "metadata": {},
   "outputs": [
    {
     "data": {
      "text/html": [
       "<div>\n",
       "<style scoped>\n",
       "    .dataframe tbody tr th:only-of-type {\n",
       "        vertical-align: middle;\n",
       "    }\n",
       "\n",
       "    .dataframe tbody tr th {\n",
       "        vertical-align: top;\n",
       "    }\n",
       "\n",
       "    .dataframe thead th {\n",
       "        text-align: right;\n",
       "    }\n",
       "</style>\n",
       "<table border=\"1\" class=\"dataframe\">\n",
       "  <thead>\n",
       "    <tr style=\"text-align: right;\">\n",
       "      <th></th>\n",
       "      <th>first_name</th>\n",
       "      <th>last_name</th>\n",
       "      <th>age</th>\n",
       "      <th>math_score</th>\n",
       "      <th>french_score</th>\n",
       "    </tr>\n",
       "  </thead>\n",
       "  <tbody>\n",
       "    <tr>\n",
       "      <th>0</th>\n",
       "      <td>Ray</td>\n",
       "      <td>Morley</td>\n",
       "      <td>18</td>\n",
       "      <td>68.0</td>\n",
       "      <td>75.0</td>\n",
       "    </tr>\n",
       "    <tr>\n",
       "      <th>1</th>\n",
       "      <td>Melvin</td>\n",
       "      <td>Scott</td>\n",
       "      <td>24</td>\n",
       "      <td>77.0</td>\n",
       "      <td>83.0</td>\n",
       "    </tr>\n",
       "    <tr>\n",
       "      <th>2</th>\n",
       "      <td>Amirah</td>\n",
       "      <td>Haley</td>\n",
       "      <td>22</td>\n",
       "      <td>92.0</td>\n",
       "      <td>67.0</td>\n",
       "    </tr>\n",
       "    <tr>\n",
       "      <th>3</th>\n",
       "      <td>Gerard</td>\n",
       "      <td>Mills</td>\n",
       "      <td>19</td>\n",
       "      <td>78.0</td>\n",
       "      <td>72.0</td>\n",
       "    </tr>\n",
       "    <tr>\n",
       "      <th>4</th>\n",
       "      <td>Amy</td>\n",
       "      <td>Grimes</td>\n",
       "      <td>23</td>\n",
       "      <td>91.0</td>\n",
       "      <td>81.0</td>\n",
       "    </tr>\n",
       "  </tbody>\n",
       "</table>\n",
       "</div>"
      ],
      "text/plain": [
       "  first_name last_name  age  math_score  french_score\n",
       "0        Ray    Morley   18        68.0          75.0\n",
       "1     Melvin     Scott   24        77.0          83.0\n",
       "2     Amirah     Haley   22        92.0          67.0\n",
       "3     Gerard     Mills   19        78.0          72.0\n",
       "4        Amy    Grimes   23        91.0          81.0"
      ]
     },
     "execution_count": 44,
     "metadata": {},
     "output_type": "execute_result"
    }
   ],
   "source": [
    "exam_df"
   ]
  },
  {
   "cell_type": "code",
   "execution_count": 45,
   "metadata": {},
   "outputs": [
    {
     "data": {
      "text/plain": [
       "math_score      float64\n",
       "french_score    float64\n",
       "dtype: object"
      ]
     },
     "execution_count": 45,
     "metadata": {},
     "output_type": "execute_result"
    }
   ],
   "source": [
    "exam_df[['math_score', 'french_score']].dtypes"
   ]
  },
  {
   "cell_type": "code",
   "execution_count": 47,
   "metadata": {},
   "outputs": [
    {
     "data": {
      "text/html": [
       "<div>\n",
       "<style scoped>\n",
       "    .dataframe tbody tr th:only-of-type {\n",
       "        vertical-align: middle;\n",
       "    }\n",
       "\n",
       "    .dataframe tbody tr th {\n",
       "        vertical-align: top;\n",
       "    }\n",
       "\n",
       "    .dataframe thead th {\n",
       "        text-align: right;\n",
       "    }\n",
       "</style>\n",
       "<table border=\"1\" class=\"dataframe\">\n",
       "  <thead>\n",
       "    <tr style=\"text-align: right;\">\n",
       "      <th></th>\n",
       "      <th>first_name</th>\n",
       "      <th>last_name</th>\n",
       "      <th>age</th>\n",
       "      <th>math_score</th>\n",
       "      <th>french_score</th>\n",
       "    </tr>\n",
       "  </thead>\n",
       "  <tbody>\n",
       "    <tr>\n",
       "      <th>0</th>\n",
       "      <td>Ray</td>\n",
       "      <td>Morley</td>\n",
       "      <td>18</td>\n",
       "      <td>68000</td>\n",
       "      <td>75000</td>\n",
       "    </tr>\n",
       "    <tr>\n",
       "      <th>1</th>\n",
       "      <td>Melvin</td>\n",
       "      <td>Scott</td>\n",
       "      <td>24</td>\n",
       "      <td>77</td>\n",
       "      <td>83</td>\n",
       "    </tr>\n",
       "    <tr>\n",
       "      <th>2</th>\n",
       "      <td>Amirah</td>\n",
       "      <td>Haley</td>\n",
       "      <td>22</td>\n",
       "      <td>92</td>\n",
       "      <td>67</td>\n",
       "    </tr>\n",
       "    <tr>\n",
       "      <th>3</th>\n",
       "      <td>Gerard</td>\n",
       "      <td>Mills</td>\n",
       "      <td>19</td>\n",
       "      <td>78000</td>\n",
       "      <td>72</td>\n",
       "    </tr>\n",
       "    <tr>\n",
       "      <th>4</th>\n",
       "      <td>Amy</td>\n",
       "      <td>Grimes</td>\n",
       "      <td>23</td>\n",
       "      <td>91</td>\n",
       "      <td>81</td>\n",
       "    </tr>\n",
       "  </tbody>\n",
       "</table>\n",
       "</div>"
      ],
      "text/plain": [
       "  first_name last_name  age  math_score  french_score\n",
       "0        Ray    Morley   18       68000         75000\n",
       "1     Melvin     Scott   24          77            83\n",
       "2     Amirah     Haley   22          92            67\n",
       "3     Gerard     Mills   19       78000            72\n",
       "4        Amy    Grimes   23          91            81"
      ]
     },
     "execution_count": 47,
     "metadata": {},
     "output_type": "execute_result"
    }
   ],
   "source": [
    "# the thousands parameter:\n",
    "\n",
    "pd.read_csv('exam_review.csv',\n",
    "            sep='>',\n",
    "            thousands=',')"
   ]
  },
  {
   "attachments": {},
   "cell_type": "markdown",
   "metadata": {},
   "source": [
    "Excluding Specific Rows\n",
    "    - use skiprows to:\n",
    "        - Exclude reading specified number of rows from the beginning of a file, by passing an integer argument. This removes the header too.\n",
    "        - Skip reading specific row indices from a file, by passing a list containing row indices to skip"
   ]
  },
  {
   "cell_type": "code",
   "execution_count": 49,
   "metadata": {},
   "outputs": [],
   "source": [
    "exam_df = pd.read_csv('exam_review.csv',\n",
    "                      sep='>',  #  specifies the delimiter '>' as the separator between values in the CSV file\n",
    "                      decimal=',')  # specifies the character ',', indicating that a comma is used as the decimal point"
   ]
  },
  {
   "cell_type": "code",
   "execution_count": 50,
   "metadata": {},
   "outputs": [
    {
     "data": {
      "text/html": [
       "<div>\n",
       "<style scoped>\n",
       "    .dataframe tbody tr th:only-of-type {\n",
       "        vertical-align: middle;\n",
       "    }\n",
       "\n",
       "    .dataframe tbody tr th {\n",
       "        vertical-align: top;\n",
       "    }\n",
       "\n",
       "    .dataframe thead th {\n",
       "        text-align: right;\n",
       "    }\n",
       "</style>\n",
       "<table border=\"1\" class=\"dataframe\">\n",
       "  <thead>\n",
       "    <tr style=\"text-align: right;\">\n",
       "      <th></th>\n",
       "      <th>first_name</th>\n",
       "      <th>last_name</th>\n",
       "      <th>age</th>\n",
       "      <th>math_score</th>\n",
       "      <th>french_score</th>\n",
       "    </tr>\n",
       "  </thead>\n",
       "  <tbody>\n",
       "    <tr>\n",
       "      <th>0</th>\n",
       "      <td>Ray</td>\n",
       "      <td>Morley</td>\n",
       "      <td>18</td>\n",
       "      <td>68.0</td>\n",
       "      <td>75.0</td>\n",
       "    </tr>\n",
       "    <tr>\n",
       "      <th>1</th>\n",
       "      <td>Melvin</td>\n",
       "      <td>Scott</td>\n",
       "      <td>24</td>\n",
       "      <td>77.0</td>\n",
       "      <td>83.0</td>\n",
       "    </tr>\n",
       "    <tr>\n",
       "      <th>2</th>\n",
       "      <td>Amirah</td>\n",
       "      <td>Haley</td>\n",
       "      <td>22</td>\n",
       "      <td>92.0</td>\n",
       "      <td>67.0</td>\n",
       "    </tr>\n",
       "    <tr>\n",
       "      <th>3</th>\n",
       "      <td>Gerard</td>\n",
       "      <td>Mills</td>\n",
       "      <td>19</td>\n",
       "      <td>78.0</td>\n",
       "      <td>72.0</td>\n",
       "    </tr>\n",
       "    <tr>\n",
       "      <th>4</th>\n",
       "      <td>Amy</td>\n",
       "      <td>Grimes</td>\n",
       "      <td>23</td>\n",
       "      <td>91.0</td>\n",
       "      <td>81.0</td>\n",
       "    </tr>\n",
       "  </tbody>\n",
       "</table>\n",
       "</div>"
      ],
      "text/plain": [
       "  first_name last_name  age  math_score  french_score\n",
       "0        Ray    Morley   18        68.0          75.0\n",
       "1     Melvin     Scott   24        77.0          83.0\n",
       "2     Amirah     Haley   22        92.0          67.0\n",
       "3     Gerard     Mills   19        78.0          72.0\n",
       "4        Amy    Grimes   23        91.0          81.0"
      ]
     },
     "execution_count": 50,
     "metadata": {},
     "output_type": "execute_result"
    }
   ],
   "source": [
    "exam_df"
   ]
  },
  {
   "cell_type": "code",
   "execution_count": 51,
   "metadata": {},
   "outputs": [
    {
     "data": {
      "text/html": [
       "<div>\n",
       "<style scoped>\n",
       "    .dataframe tbody tr th:only-of-type {\n",
       "        vertical-align: middle;\n",
       "    }\n",
       "\n",
       "    .dataframe tbody tr th {\n",
       "        vertical-align: top;\n",
       "    }\n",
       "\n",
       "    .dataframe thead th {\n",
       "        text-align: right;\n",
       "    }\n",
       "</style>\n",
       "<table border=\"1\" class=\"dataframe\">\n",
       "  <thead>\n",
       "    <tr style=\"text-align: right;\">\n",
       "      <th></th>\n",
       "      <th>Melvin</th>\n",
       "      <th>Scott</th>\n",
       "      <th>24</th>\n",
       "      <th>77</th>\n",
       "      <th>83</th>\n",
       "    </tr>\n",
       "  </thead>\n",
       "  <tbody>\n",
       "    <tr>\n",
       "      <th>0</th>\n",
       "      <td>Amirah</td>\n",
       "      <td>Haley</td>\n",
       "      <td>22</td>\n",
       "      <td>92</td>\n",
       "      <td>67</td>\n",
       "    </tr>\n",
       "    <tr>\n",
       "      <th>1</th>\n",
       "      <td>Gerard</td>\n",
       "      <td>Mills</td>\n",
       "      <td>19</td>\n",
       "      <td>78,000</td>\n",
       "      <td>72</td>\n",
       "    </tr>\n",
       "    <tr>\n",
       "      <th>2</th>\n",
       "      <td>Amy</td>\n",
       "      <td>Grimes</td>\n",
       "      <td>23</td>\n",
       "      <td>91</td>\n",
       "      <td>81</td>\n",
       "    </tr>\n",
       "  </tbody>\n",
       "</table>\n",
       "</div>"
      ],
      "text/plain": [
       "   Melvin   Scott  24      77  83\n",
       "0  Amirah   Haley  22      92  67\n",
       "1  Gerard   Mills  19  78,000  72\n",
       "2     Amy  Grimes  23      91  81"
      ]
     },
     "execution_count": 51,
     "metadata": {},
     "output_type": "execute_result"
    }
   ],
   "source": [
    "# skip reading the first 2 rows from this file\n",
    "# use skiprows=2:\n",
    "\n",
    "pd.read_csv('exam_review.csv',\n",
    "            sep='>',\n",
    "            skiprows=2)"
   ]
  },
  {
   "cell_type": "code",
   "execution_count": 52,
   "metadata": {},
   "outputs": [],
   "source": [
    "# header is considered as the first row\n",
    "# to skip reading data rows 1 and 3 use skiprows=[1,3]:\n",
    "\n",
    "exam_df = pd.read_csv('exam_review.csv',\n",
    "                      sep='>',\n",
    "                      decimal=',',\n",
    "                      skiprows=[1,3])"
   ]
  },
  {
   "cell_type": "code",
   "execution_count": 53,
   "metadata": {},
   "outputs": [
    {
     "data": {
      "text/html": [
       "<div>\n",
       "<style scoped>\n",
       "    .dataframe tbody tr th:only-of-type {\n",
       "        vertical-align: middle;\n",
       "    }\n",
       "\n",
       "    .dataframe tbody tr th {\n",
       "        vertical-align: top;\n",
       "    }\n",
       "\n",
       "    .dataframe thead th {\n",
       "        text-align: right;\n",
       "    }\n",
       "</style>\n",
       "<table border=\"1\" class=\"dataframe\">\n",
       "  <thead>\n",
       "    <tr style=\"text-align: right;\">\n",
       "      <th></th>\n",
       "      <th>first_name</th>\n",
       "      <th>last_name</th>\n",
       "      <th>age</th>\n",
       "      <th>math_score</th>\n",
       "      <th>french_score</th>\n",
       "    </tr>\n",
       "  </thead>\n",
       "  <tbody>\n",
       "    <tr>\n",
       "      <th>0</th>\n",
       "      <td>Melvin</td>\n",
       "      <td>Scott</td>\n",
       "      <td>24</td>\n",
       "      <td>77.0</td>\n",
       "      <td>83</td>\n",
       "    </tr>\n",
       "    <tr>\n",
       "      <th>1</th>\n",
       "      <td>Gerard</td>\n",
       "      <td>Mills</td>\n",
       "      <td>19</td>\n",
       "      <td>78.0</td>\n",
       "      <td>72</td>\n",
       "    </tr>\n",
       "    <tr>\n",
       "      <th>2</th>\n",
       "      <td>Amy</td>\n",
       "      <td>Grimes</td>\n",
       "      <td>23</td>\n",
       "      <td>91.0</td>\n",
       "      <td>81</td>\n",
       "    </tr>\n",
       "  </tbody>\n",
       "</table>\n",
       "</div>"
      ],
      "text/plain": [
       "  first_name last_name  age  math_score  french_score\n",
       "0     Melvin     Scott   24        77.0            83\n",
       "1     Gerard     Mills   19        78.0            72\n",
       "2        Amy    Grimes   23        91.0            81"
      ]
     },
     "execution_count": 53,
     "metadata": {},
     "output_type": "execute_result"
    }
   ],
   "source": [
    "exam_df"
   ]
  },
  {
   "attachments": {},
   "cell_type": "markdown",
   "metadata": {},
   "source": [
    "Get rid of blank lines\n",
    "    - skip_blank_lines parameter \n",
    "        - set to True so blank lines are skipped when reading lines \n",
    "        - if false, every blank line will be loaded with NaN values into the DataFrame"
   ]
  },
  {
   "cell_type": "code",
   "execution_count": 54,
   "metadata": {},
   "outputs": [
    {
     "data": {
      "text/html": [
       "<div>\n",
       "<style scoped>\n",
       "    .dataframe tbody tr th:only-of-type {\n",
       "        vertical-align: middle;\n",
       "    }\n",
       "\n",
       "    .dataframe tbody tr th {\n",
       "        vertical-align: top;\n",
       "    }\n",
       "\n",
       "    .dataframe thead th {\n",
       "        text-align: right;\n",
       "    }\n",
       "</style>\n",
       "<table border=\"1\" class=\"dataframe\">\n",
       "  <thead>\n",
       "    <tr style=\"text-align: right;\">\n",
       "      <th></th>\n",
       "      <th>first_name</th>\n",
       "      <th>last_name</th>\n",
       "      <th>age</th>\n",
       "      <th>math_score</th>\n",
       "      <th>french_score</th>\n",
       "    </tr>\n",
       "  </thead>\n",
       "  <tbody>\n",
       "    <tr>\n",
       "      <th>0</th>\n",
       "      <td>Ray</td>\n",
       "      <td>Morley</td>\n",
       "      <td>18.0</td>\n",
       "      <td>68,000</td>\n",
       "      <td>75,000</td>\n",
       "    </tr>\n",
       "    <tr>\n",
       "      <th>1</th>\n",
       "      <td>Melvin</td>\n",
       "      <td>Scott</td>\n",
       "      <td>24.0</td>\n",
       "      <td>77</td>\n",
       "      <td>83</td>\n",
       "    </tr>\n",
       "    <tr>\n",
       "      <th>2</th>\n",
       "      <td>Amirah</td>\n",
       "      <td>Haley</td>\n",
       "      <td>22.0</td>\n",
       "      <td>92</td>\n",
       "      <td>67</td>\n",
       "    </tr>\n",
       "    <tr>\n",
       "      <th>3</th>\n",
       "      <td>NaN</td>\n",
       "      <td>NaN</td>\n",
       "      <td>NaN</td>\n",
       "      <td>NaN</td>\n",
       "      <td>NaN</td>\n",
       "    </tr>\n",
       "    <tr>\n",
       "      <th>4</th>\n",
       "      <td>Gerard</td>\n",
       "      <td>Mills</td>\n",
       "      <td>19.0</td>\n",
       "      <td>78,000</td>\n",
       "      <td>72</td>\n",
       "    </tr>\n",
       "    <tr>\n",
       "      <th>5</th>\n",
       "      <td>Amy</td>\n",
       "      <td>Grimes</td>\n",
       "      <td>23.0</td>\n",
       "      <td>91</td>\n",
       "      <td>81</td>\n",
       "    </tr>\n",
       "  </tbody>\n",
       "</table>\n",
       "</div>"
      ],
      "text/plain": [
       "  first_name last_name   age math_score french_score\n",
       "0        Ray    Morley  18.0     68,000       75,000\n",
       "1     Melvin     Scott  24.0         77           83\n",
       "2     Amirah     Haley  22.0         92           67\n",
       "3        NaN       NaN   NaN        NaN          NaN\n",
       "4     Gerard     Mills  19.0     78,000           72\n",
       "5        Amy    Grimes  23.0         91           81"
      ]
     },
     "execution_count": 54,
     "metadata": {},
     "output_type": "execute_result"
    }
   ],
   "source": [
    "pd.read_csv('exam_review.csv',\n",
    "            sep='>',\n",
    "            skip_blank_lines=False)\n",
    "\n",
    "# will print the NaNs"
   ]
  },
  {
   "attachments": {},
   "cell_type": "markdown",
   "metadata": {},
   "source": [
    "Loading Specific Columns\n",
    "    - Use usecols parameter to load just specific columns and not all of them\n",
    "    - Pros: instead of loading an entire dataframe into memory and then deleting the not required columns\n",
    "            -  can select the columns needed while loading the dataset itself"
   ]
  },
  {
   "cell_type": "code",
   "execution_count": 55,
   "metadata": {},
   "outputs": [
    {
     "data": {
      "text/html": [
       "<div>\n",
       "<style scoped>\n",
       "    .dataframe tbody tr th:only-of-type {\n",
       "        vertical-align: middle;\n",
       "    }\n",
       "\n",
       "    .dataframe tbody tr th {\n",
       "        vertical-align: top;\n",
       "    }\n",
       "\n",
       "    .dataframe thead th {\n",
       "        text-align: right;\n",
       "    }\n",
       "</style>\n",
       "<table border=\"1\" class=\"dataframe\">\n",
       "  <thead>\n",
       "    <tr style=\"text-align: right;\">\n",
       "      <th></th>\n",
       "      <th>first_name</th>\n",
       "      <th>last_name</th>\n",
       "      <th>age</th>\n",
       "    </tr>\n",
       "  </thead>\n",
       "  <tbody>\n",
       "    <tr>\n",
       "      <th>0</th>\n",
       "      <td>Ray</td>\n",
       "      <td>Morley</td>\n",
       "      <td>18</td>\n",
       "    </tr>\n",
       "    <tr>\n",
       "      <th>1</th>\n",
       "      <td>Melvin</td>\n",
       "      <td>Scott</td>\n",
       "      <td>24</td>\n",
       "    </tr>\n",
       "    <tr>\n",
       "      <th>2</th>\n",
       "      <td>Amirah</td>\n",
       "      <td>Haley</td>\n",
       "      <td>22</td>\n",
       "    </tr>\n",
       "    <tr>\n",
       "      <th>3</th>\n",
       "      <td>Gerard</td>\n",
       "      <td>Mills</td>\n",
       "      <td>19</td>\n",
       "    </tr>\n",
       "    <tr>\n",
       "      <th>4</th>\n",
       "      <td>Amy</td>\n",
       "      <td>Grimes</td>\n",
       "      <td>23</td>\n",
       "    </tr>\n",
       "  </tbody>\n",
       "</table>\n",
       "</div>"
      ],
      "text/plain": [
       "  first_name last_name  age\n",
       "0        Ray    Morley   18\n",
       "1     Melvin     Scott   24\n",
       "2     Amirah     Haley   22\n",
       "3     Gerard     Mills   19\n",
       "4        Amy    Grimes   23"
      ]
     },
     "execution_count": 55,
     "metadata": {},
     "output_type": "execute_result"
    }
   ],
   "source": [
    "# parameter to usecols,\n",
    "#      - pass either a list of strings corresponding to the column names or a list of integers corresponding to column index\n",
    "\n",
    "pd.read_csv('exam_review.csv',\n",
    "            usecols=['first_name', 'last_name', 'age'],\n",
    "            sep='>')"
   ]
  },
  {
   "cell_type": "code",
   "execution_count": 56,
   "metadata": {},
   "outputs": [
    {
     "data": {
      "text/html": [
       "<div>\n",
       "<style scoped>\n",
       "    .dataframe tbody tr th:only-of-type {\n",
       "        vertical-align: middle;\n",
       "    }\n",
       "\n",
       "    .dataframe tbody tr th {\n",
       "        vertical-align: top;\n",
       "    }\n",
       "\n",
       "    .dataframe thead th {\n",
       "        text-align: right;\n",
       "    }\n",
       "</style>\n",
       "<table border=\"1\" class=\"dataframe\">\n",
       "  <thead>\n",
       "    <tr style=\"text-align: right;\">\n",
       "      <th></th>\n",
       "      <th>first_name</th>\n",
       "      <th>last_name</th>\n",
       "      <th>age</th>\n",
       "    </tr>\n",
       "  </thead>\n",
       "  <tbody>\n",
       "    <tr>\n",
       "      <th>0</th>\n",
       "      <td>Ray</td>\n",
       "      <td>Morley</td>\n",
       "      <td>18</td>\n",
       "    </tr>\n",
       "    <tr>\n",
       "      <th>1</th>\n",
       "      <td>Melvin</td>\n",
       "      <td>Scott</td>\n",
       "      <td>24</td>\n",
       "    </tr>\n",
       "    <tr>\n",
       "      <th>2</th>\n",
       "      <td>Amirah</td>\n",
       "      <td>Haley</td>\n",
       "      <td>22</td>\n",
       "    </tr>\n",
       "    <tr>\n",
       "      <th>3</th>\n",
       "      <td>Gerard</td>\n",
       "      <td>Mills</td>\n",
       "      <td>19</td>\n",
       "    </tr>\n",
       "    <tr>\n",
       "      <th>4</th>\n",
       "      <td>Amy</td>\n",
       "      <td>Grimes</td>\n",
       "      <td>23</td>\n",
       "    </tr>\n",
       "  </tbody>\n",
       "</table>\n",
       "</div>"
      ],
      "text/plain": [
       "  first_name last_name  age\n",
       "0        Ray    Morley   18\n",
       "1     Melvin     Scott   24\n",
       "2     Amirah     Haley   22\n",
       "3     Gerard     Mills   19\n",
       "4        Amy    Grimes   23"
      ]
     },
     "execution_count": 56,
     "metadata": {},
     "output_type": "execute_result"
    }
   ],
   "source": [
    "# or use just the column position\n",
    "\n",
    "pd.read_csv('exam_review.csv',\n",
    "            usecols=[0, 1, 2],\n",
    "            sep='>')"
   ]
  },
  {
   "attachments": {},
   "cell_type": "markdown",
   "metadata": {},
   "source": [
    "Using a Series instead of DataFrame"
   ]
  },
  {
   "cell_type": "code",
   "execution_count": 58,
   "metadata": {},
   "outputs": [],
   "source": [
    "# if parsed data only contains one column then we can return a Series by setting the squeeze parameter to True\n",
    "exam_test_1 = pd.read_csv('exam_review.csv',\n",
    "                          sep='>',    #  '>' is used as the separator between values in the CSV file.\n",
    "                          usecols=['last_name'])  # including only the 'last_name' column."
   ]
  },
  {
   "cell_type": "code",
   "execution_count": 59,
   "metadata": {},
   "outputs": [
    {
     "data": {
      "text/plain": [
       "pandas.core.frame.DataFrame"
      ]
     },
     "execution_count": 59,
     "metadata": {},
     "output_type": "execute_result"
    }
   ],
   "source": [
    "type(exam_test_1)"
   ]
  },
  {
   "cell_type": "code",
   "execution_count": null,
   "metadata": {},
   "outputs": [],
   "source": [
    "exam_test_2 = pd.read_csv('exam_review.csv',\n",
    "                          sep='>',\n",
    "                          usecols=['last_name'],\n",
    "                          squeeze=True)"
   ]
  },
  {
   "attachments": {},
   "cell_type": "markdown",
   "metadata": {},
   "source": [
    "Save to CSV File\n",
    "    - Save DataFrame as a CSV file"
   ]
  },
  {
   "cell_type": "code",
   "execution_count": 61,
   "metadata": {},
   "outputs": [
    {
     "data": {
      "text/html": [
       "<div>\n",
       "<style scoped>\n",
       "    .dataframe tbody tr th:only-of-type {\n",
       "        vertical-align: middle;\n",
       "    }\n",
       "\n",
       "    .dataframe tbody tr th {\n",
       "        vertical-align: top;\n",
       "    }\n",
       "\n",
       "    .dataframe thead th {\n",
       "        text-align: right;\n",
       "    }\n",
       "</style>\n",
       "<table border=\"1\" class=\"dataframe\">\n",
       "  <thead>\n",
       "    <tr style=\"text-align: right;\">\n",
       "      <th></th>\n",
       "      <th>first_name</th>\n",
       "      <th>last_name</th>\n",
       "      <th>age</th>\n",
       "      <th>math_score</th>\n",
       "      <th>french_score</th>\n",
       "    </tr>\n",
       "  </thead>\n",
       "  <tbody>\n",
       "    <tr>\n",
       "      <th>0</th>\n",
       "      <td>Melvin</td>\n",
       "      <td>Scott</td>\n",
       "      <td>24</td>\n",
       "      <td>77.0</td>\n",
       "      <td>83</td>\n",
       "    </tr>\n",
       "    <tr>\n",
       "      <th>1</th>\n",
       "      <td>Gerard</td>\n",
       "      <td>Mills</td>\n",
       "      <td>19</td>\n",
       "      <td>78.0</td>\n",
       "      <td>72</td>\n",
       "    </tr>\n",
       "    <tr>\n",
       "      <th>2</th>\n",
       "      <td>Amy</td>\n",
       "      <td>Grimes</td>\n",
       "      <td>23</td>\n",
       "      <td>91.0</td>\n",
       "      <td>81</td>\n",
       "    </tr>\n",
       "  </tbody>\n",
       "</table>\n",
       "</div>"
      ],
      "text/plain": [
       "  first_name last_name  age  math_score  french_score\n",
       "0     Melvin     Scott   24        77.0            83\n",
       "1     Gerard     Mills   19        78.0            72\n",
       "2        Amy    Grimes   23        91.0            81"
      ]
     },
     "execution_count": 61,
     "metadata": {},
     "output_type": "execute_result"
    }
   ],
   "source": [
    "exam_df"
   ]
  },
  {
   "cell_type": "code",
   "execution_count": 62,
   "metadata": {},
   "outputs": [
    {
     "data": {
      "text/plain": [
       "',first_name,last_name,age,math_score,french_score\\n0,Melvin,Scott,24,77.0,83\\n1,Gerard,Mills,19,78.0,72\\n2,Amy,Grimes,23,91.0,81\\n'"
      ]
     },
     "execution_count": 62,
     "metadata": {},
     "output_type": "execute_result"
    }
   ],
   "source": [
    "# generate a CSV string from our DataFrame:\n",
    "\n",
    "exam_df.to_csv()"
   ]
  },
  {
   "cell_type": "code",
   "execution_count": 63,
   "metadata": {},
   "outputs": [],
   "source": [
    "# Or specify a file path where we want our generated CSV code to be saved:\n",
    "\n",
    "exam_df.to_csv('out.csv')"
   ]
  },
  {
   "cell_type": "code",
   "execution_count": 64,
   "metadata": {},
   "outputs": [
    {
     "data": {
      "text/html": [
       "<div>\n",
       "<style scoped>\n",
       "    .dataframe tbody tr th:only-of-type {\n",
       "        vertical-align: middle;\n",
       "    }\n",
       "\n",
       "    .dataframe tbody tr th {\n",
       "        vertical-align: top;\n",
       "    }\n",
       "\n",
       "    .dataframe thead th {\n",
       "        text-align: right;\n",
       "    }\n",
       "</style>\n",
       "<table border=\"1\" class=\"dataframe\">\n",
       "  <thead>\n",
       "    <tr style=\"text-align: right;\">\n",
       "      <th></th>\n",
       "      <th>Unnamed: 0</th>\n",
       "      <th>first_name</th>\n",
       "      <th>last_name</th>\n",
       "      <th>age</th>\n",
       "      <th>math_score</th>\n",
       "      <th>french_score</th>\n",
       "    </tr>\n",
       "  </thead>\n",
       "  <tbody>\n",
       "    <tr>\n",
       "      <th>0</th>\n",
       "      <td>0</td>\n",
       "      <td>Melvin</td>\n",
       "      <td>Scott</td>\n",
       "      <td>24</td>\n",
       "      <td>77.0</td>\n",
       "      <td>83</td>\n",
       "    </tr>\n",
       "    <tr>\n",
       "      <th>1</th>\n",
       "      <td>1</td>\n",
       "      <td>Gerard</td>\n",
       "      <td>Mills</td>\n",
       "      <td>19</td>\n",
       "      <td>78.0</td>\n",
       "      <td>72</td>\n",
       "    </tr>\n",
       "    <tr>\n",
       "      <th>2</th>\n",
       "      <td>2</td>\n",
       "      <td>Amy</td>\n",
       "      <td>Grimes</td>\n",
       "      <td>23</td>\n",
       "      <td>91.0</td>\n",
       "      <td>81</td>\n",
       "    </tr>\n",
       "  </tbody>\n",
       "</table>\n",
       "</div>"
      ],
      "text/plain": [
       "   Unnamed: 0 first_name last_name  age  math_score  french_score\n",
       "0           0     Melvin     Scott   24        77.0            83\n",
       "1           1     Gerard     Mills   19        78.0            72\n",
       "2           2        Amy    Grimes   23        91.0            81"
      ]
     },
     "execution_count": 64,
     "metadata": {},
     "output_type": "execute_result"
    }
   ],
   "source": [
    "pd.read_csv('out.csv')"
   ]
  },
  {
   "cell_type": "code",
   "execution_count": 65,
   "metadata": {},
   "outputs": [],
   "source": [
    "exam_df.to_csv('out.csv',\n",
    "               index=None)\n",
    "\n",
    "# index=None parameter specifies dont include index column in the exported CSV file\n",
    "# Setting index to None prevents the index from being saved as a separate column in the CSV file\n"
   ]
  },
  {
   "cell_type": "code",
   "execution_count": 66,
   "metadata": {},
   "outputs": [
    {
     "data": {
      "text/html": [
       "<div>\n",
       "<style scoped>\n",
       "    .dataframe tbody tr th:only-of-type {\n",
       "        vertical-align: middle;\n",
       "    }\n",
       "\n",
       "    .dataframe tbody tr th {\n",
       "        vertical-align: top;\n",
       "    }\n",
       "\n",
       "    .dataframe thead th {\n",
       "        text-align: right;\n",
       "    }\n",
       "</style>\n",
       "<table border=\"1\" class=\"dataframe\">\n",
       "  <thead>\n",
       "    <tr style=\"text-align: right;\">\n",
       "      <th></th>\n",
       "      <th>first_name</th>\n",
       "      <th>last_name</th>\n",
       "      <th>age</th>\n",
       "      <th>math_score</th>\n",
       "      <th>french_score</th>\n",
       "    </tr>\n",
       "  </thead>\n",
       "  <tbody>\n",
       "    <tr>\n",
       "      <th>0</th>\n",
       "      <td>Melvin</td>\n",
       "      <td>Scott</td>\n",
       "      <td>24</td>\n",
       "      <td>77.0</td>\n",
       "      <td>83</td>\n",
       "    </tr>\n",
       "    <tr>\n",
       "      <th>1</th>\n",
       "      <td>Gerard</td>\n",
       "      <td>Mills</td>\n",
       "      <td>19</td>\n",
       "      <td>78.0</td>\n",
       "      <td>72</td>\n",
       "    </tr>\n",
       "    <tr>\n",
       "      <th>2</th>\n",
       "      <td>Amy</td>\n",
       "      <td>Grimes</td>\n",
       "      <td>23</td>\n",
       "      <td>91.0</td>\n",
       "      <td>81</td>\n",
       "    </tr>\n",
       "  </tbody>\n",
       "</table>\n",
       "</div>"
      ],
      "text/plain": [
       "  first_name last_name  age  math_score  french_score\n",
       "0     Melvin     Scott   24        77.0            83\n",
       "1     Gerard     Mills   19        78.0            72\n",
       "2        Amy    Grimes   23        91.0            81"
      ]
     },
     "execution_count": 66,
     "metadata": {},
     "output_type": "execute_result"
    }
   ],
   "source": [
    "pd.read_csv('out.csv')"
   ]
  }
 ],
 "metadata": {
  "kernelspec": {
   "display_name": "Python 3",
   "language": "python",
   "name": "python3"
  },
  "language_info": {
   "codemirror_mode": {
    "name": "ipython",
    "version": 3
   },
   "file_extension": ".py",
   "mimetype": "text/x-python",
   "name": "python",
   "nbconvert_exporter": "python",
   "pygments_lexer": "ipython3",
   "version": "3.11.5"
  },
  "orig_nbformat": 4,
  "vscode": {
   "interpreter": {
    "hash": "aee8b7b246df8f9039afb4144a1f6fd8d2ca17a180786b69acc140d282b71a49"
   }
  }
 },
 "nbformat": 4,
 "nbformat_minor": 2
}
